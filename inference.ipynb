{
 "cells": [
  {
   "cell_type": "markdown",
   "id": "2dab0ed9",
   "metadata": {},
   "source": [
    "# Inference"
   ]
  },
  {
   "cell_type": "code",
   "execution_count": 158,
   "id": "e6f0322e",
   "metadata": {},
   "outputs": [],
   "source": [
    "from keras.models import load_model\n",
    "import pickle\n",
    "import torch\n",
    "import joblib\n",
    "from transformers import AutoTokenizer, AutoModelForSequenceClassification\n",
    "from tensorflow.keras.preprocessing.sequence import pad_sequences\n",
    "import re\n",
    "from nltk.tokenize import word_tokenize\n",
    "import requests\n",
    "import ast\n",
    "from nltk.corpus import stopwords\n",
    "import string\n",
    "import numpy as np"
   ]
  },
  {
   "cell_type": "code",
   "execution_count": 159,
   "id": "a374caac",
   "metadata": {},
   "outputs": [
    {
     "name": "stdout",
     "output_type": "stream",
     "text": [
      "cuda\n"
     ]
    }
   ],
   "source": [
    "device = torch.device(\"cuda\" if torch.cuda.is_available() else \"cpu\")\n",
    "print(device)"
   ]
  },
  {
   "cell_type": "code",
   "execution_count": 160,
   "id": "0f696337",
   "metadata": {},
   "outputs": [],
   "source": [
    "def getStopWordList(url):\n",
    "    response = requests.get(url)\n",
    "    response.raise_for_status()  \n",
    "    content = response.text\n",
    "    stopWords = content.splitlines()  # Split the content into lines to create the stopword list\n",
    "    return stopWords\n",
    "\n",
    "stopwords_tambahan = getStopWordList('https://raw.githubusercontent.com/yasirutomo/python-sentianalysis-id/master/data/feature_list/stopwordsID.txt')\n",
    "stopwords_tambahan.pop(0)\n",
    "stopwords_tambahan += ['gojek','driver','aplikasi','iya']"
   ]
  },
  {
   "cell_type": "code",
   "execution_count": 161,
   "id": "59fb6a5e",
   "metadata": {},
   "outputs": [],
   "source": [
    "def getSlangWordList(url):\n",
    "    response = requests.get(url)\n",
    "    response.raise_for_status()  \n",
    "    content = response.text\n",
    "    data_dict = ast.literal_eval(content)\n",
    "    return data_dict\n",
    "\n",
    "slangwords = getSlangWordList('https://raw.githubusercontent.com/louisowen6/NLP_bahasa_resources/master/combined_slang_words.txt')\n",
    "slangwords['gak'] = 'tidak'\n",
    "slangwords['ga'] = 'tidak'\n",
    "slangwords['bagu'] = 'bagus'\n",
    "slangwords['gk'] ='tidak'\n",
    "slangwords['udh'] = 'sudah'\n",
    "slangwords['sdh'] = 'sudah'"
   ]
  },
  {
   "cell_type": "markdown",
   "id": "2b458183",
   "metadata": {},
   "source": [
    "### Load model and tokenizer/vectorizer"
   ]
  },
  {
   "cell_type": "markdown",
   "id": "7a70fa02",
   "metadata": {},
   "source": [
    "BILSTM"
   ]
  },
  {
   "cell_type": "code",
   "execution_count": 162,
   "id": "c863f171",
   "metadata": {},
   "outputs": [],
   "source": [
    "model_bilstm= load_model('model_tokenizer_bilstm_logres/bilstm_model.keras')\n",
    "\n",
    "with open('model_tokenizer_bilstm_logres/tokenizer.pkl', 'rb') as f:\n",
    "    tokenizer_bilstm = pickle.load(f)"
   ]
  },
  {
   "cell_type": "markdown",
   "id": "9d105b2b",
   "metadata": {},
   "source": [
    "FINETUNED cahya/distilbert-base-indonesian"
   ]
  },
  {
   "cell_type": "code",
   "execution_count": 163,
   "id": "2dac1600",
   "metadata": {},
   "outputs": [
    {
     "data": {
      "text/plain": [
       "DistilBertForSequenceClassification(\n",
       "  (distilbert): DistilBertModel(\n",
       "    (embeddings): Embeddings(\n",
       "      (word_embeddings): Embedding(32000, 768, padding_idx=0)\n",
       "      (position_embeddings): Embedding(512, 768)\n",
       "      (LayerNorm): LayerNorm((768,), eps=1e-12, elementwise_affine=True)\n",
       "      (dropout): Dropout(p=0.1, inplace=False)\n",
       "    )\n",
       "    (transformer): Transformer(\n",
       "      (layer): ModuleList(\n",
       "        (0-5): 6 x TransformerBlock(\n",
       "          (attention): DistilBertSdpaAttention(\n",
       "            (dropout): Dropout(p=0.1, inplace=False)\n",
       "            (q_lin): Linear(in_features=768, out_features=768, bias=True)\n",
       "            (k_lin): Linear(in_features=768, out_features=768, bias=True)\n",
       "            (v_lin): Linear(in_features=768, out_features=768, bias=True)\n",
       "            (out_lin): Linear(in_features=768, out_features=768, bias=True)\n",
       "          )\n",
       "          (sa_layer_norm): LayerNorm((768,), eps=1e-12, elementwise_affine=True)\n",
       "          (ffn): FFN(\n",
       "            (dropout): Dropout(p=0.1, inplace=False)\n",
       "            (lin1): Linear(in_features=768, out_features=3072, bias=True)\n",
       "            (lin2): Linear(in_features=3072, out_features=768, bias=True)\n",
       "            (activation): GELUActivation()\n",
       "          )\n",
       "          (output_layer_norm): LayerNorm((768,), eps=1e-12, elementwise_affine=True)\n",
       "        )\n",
       "      )\n",
       "    )\n",
       "  )\n",
       "  (pre_classifier): Linear(in_features=768, out_features=768, bias=True)\n",
       "  (classifier): Linear(in_features=768, out_features=3, bias=True)\n",
       "  (dropout): Dropout(p=0.2, inplace=False)\n",
       ")"
      ]
     },
     "execution_count": 163,
     "metadata": {},
     "output_type": "execute_result"
    }
   ],
   "source": [
    "tokenizer_distilbert_finetuned = AutoTokenizer.from_pretrained(\"saved_model\")\n",
    "model_distilbert_finetuned = AutoModelForSequenceClassification.from_pretrained(\n",
    "    \"saved_model\",\n",
    "    num_labels=3\n",
    ")\n",
    "model_distilbert_finetuned.to(device)\n",
    "model_distilbert_finetuned.eval()"
   ]
  },
  {
   "cell_type": "markdown",
   "id": "c579c155",
   "metadata": {},
   "source": [
    "**Model tidak disertakan secara langsung dalam repositori ini karena ukurannya yang besar. Untuk menggunakan atau mencoba model, dapat langsung memuat model dari Hugging Face Hub menggunakan transformers atau sentence-transformers dengan repo ID yang tersedia.**"
   ]
  },
  {
   "cell_type": "code",
   "execution_count": null,
   "id": "9079de7e",
   "metadata": {},
   "outputs": [],
   "source": [
    "#tokenizer_distilbert_finetuned = AutoTokenizer.from_pretrained(\"PetaniHandal/distilbert-base-id-finetuned-sentiment\")\n",
    "#model_distilbert_finetuned = AutoModelForSequenceClassification.from_pretrained(\n",
    "#    \"PetaniHandal/distilbert-base-id-finetuned-sentiment\",\n",
    "#    num_labels=3\n",
    "#)\n",
    "#model_distilbert_finetuned.to(device)\n",
    "#model_distilbert_finetuned.eval()"
   ]
  },
  {
   "cell_type": "markdown",
   "id": "041ddfdd",
   "metadata": {},
   "source": [
    "#### Logistic Regression with TF-IDF"
   ]
  },
  {
   "cell_type": "code",
   "execution_count": 164,
   "id": "81927883",
   "metadata": {},
   "outputs": [],
   "source": [
    "model_logres = joblib.load('model_tokenizer_bilstm_logres/logistic_regression_model.pkl')\n",
    "\n",
    "with open('model_tokenizer_bilstm_logres/tfidf_vectorizer.pkl', 'rb') as f:\n",
    "    tfidf = pickle.load(f)"
   ]
  },
  {
   "cell_type": "markdown",
   "id": "63d94a10",
   "metadata": {},
   "source": [
    "### Pipeline"
   ]
  },
  {
   "cell_type": "markdown",
   "id": "49f07ee0",
   "metadata": {},
   "source": [
    "#### Pipeline Processing Text"
   ]
  },
  {
   "cell_type": "code",
   "execution_count": 165,
   "id": "f12affaf",
   "metadata": {},
   "outputs": [],
   "source": [
    "def processingTextGeneral(text):\n",
    "    # Cleaning Text\n",
    "    text = re.sub(r'@[A-Za-z0-9]+', '', text) \n",
    "    text = re.sub(r'#[A-Za-z0-9]+', '', text) \n",
    "    text = re.sub(r'RT[\\s]', '', text) \n",
    "    text = re.sub(r\"http\\S+\", '', text) \n",
    "    text = re.sub(r'[0-9]+', '', text) \n",
    "    text = re.sub(r'[^\\w\\s]', '', text) \n",
    "\n",
    "    text = text.replace('\\n', ' ') \n",
    "    text = text.translate(str.maketrans('', '', string.punctuation)) \n",
    "    text = text.strip(' ')\n",
    "\n",
    "    # Casefolding Text\n",
    "    text = text.lower()\n",
    "\n",
    "    #menggabungkan kata nomina (nya)\n",
    "    text = re.sub(r'\\b(\\w+)\\s+nya\\b', r'\\1nya', text)\n",
    "    # Tokenizing Text\n",
    "    text_tokenize = word_tokenize(text)\n",
    "\n",
    "    # slangword fixing and stopword removal\n",
    "    listStopwords = set(stopwords.words('indonesian'))\n",
    "    listStopwords1 = set(stopwords.words('english'))\n",
    "    listStopwords.update(listStopwords1)\n",
    "    listStopwords.update(stopwords_tambahan)\n",
    "\n",
    "    filtered = []\n",
    "    for txt in text_tokenize:\n",
    "        token_fixed = slangwords.get(txt, txt)\n",
    "        if token_fixed not in listStopwords:\n",
    "            filtered.append(token_fixed)\n",
    "\n",
    "    return ' '.join(filtered)\n",
    "\n",
    "def processingTextForBert(text):\n",
    "    # Cleaning Text\n",
    "    text = re.sub(r'@[A-Za-z0-9]+', '', text) \n",
    "    text = re.sub(r'#[A-Za-z0-9]+', '', text) \n",
    "    text = re.sub(r'RT[\\s]', '', text) \n",
    "    text = re.sub(r\"http\\S+\", '', text) \n",
    "    text = re.sub(r'[0-9]+', '', text)\n",
    "\n",
    "    text = text.replace('\\n', ' ') \n",
    "    text = text.strip(' ') \n",
    "\n",
    "    # Casefolding Text\n",
    "    text = text.lower()\n",
    "\n",
    "    tokenize = text.split()\n",
    "    tokenize = [word for word in tokenize if word not in slangwords]\n",
    "    text = ' '.join(tokenize)\n",
    "    return text\n"
   ]
  },
  {
   "cell_type": "markdown",
   "id": "7db20977",
   "metadata": {},
   "source": [
    "#### Pipeline BILSTM"
   ]
  },
  {
   "cell_type": "code",
   "execution_count": 166,
   "id": "59aa624b",
   "metadata": {},
   "outputs": [],
   "source": [
    "def tokenizing_bilstm(text):\n",
    "    new_seq = tokenizer_bilstm.texts_to_sequences([text])\n",
    "    new_pad = pad_sequences(new_seq, maxlen=35, truncating='post', padding='post')\n",
    "    return new_pad\n",
    "\n",
    "def predicting_bilstm(token):\n",
    "    pred = model_bilstm.predict(token)\n",
    "    result = np.argmax(pred, axis=1)\n",
    "\n",
    "    return result\n",
    "\n",
    "def inference_bilstm(text):\n",
    "    text_processed = processingTextGeneral(text)\n",
    "    token = tokenizing_bilstm(text_processed)\n",
    "    result = predicting_bilstm(token)\n",
    "\n",
    "    print(\"Teks :\", text)\n",
    "    if result == 0:\n",
    "        print(\"Negatif\")\n",
    "    elif result == 1:\n",
    "        print(\"Netral\")\n",
    "    else:\n",
    "        print(\"Positif\")\n",
    "    "
   ]
  },
  {
   "cell_type": "markdown",
   "id": "2ec6a587",
   "metadata": {},
   "source": [
    "##### Pipeline DistilBERT Fintuned"
   ]
  },
  {
   "cell_type": "code",
   "execution_count": 167,
   "id": "44386ddb",
   "metadata": {},
   "outputs": [],
   "source": [
    "def tokenizing_distilbert(text):\n",
    "    return tokenizer_distilbert_finetuned(text, padding=\"max_length\", truncation=True, max_length=35)\n",
    "\n",
    "def predicting_distilbert(inputs):\n",
    "    with torch.no_grad():\n",
    "        outputs = model_distilbert_finetuned(**inputs)\n",
    "        logits = outputs.logits\n",
    "        outputs = model_distilbert_finetuned(**inputs)\n",
    "        logits = outputs.logits\n",
    "        _, preds = torch.max(logits, dim=1)  # <- sesuai dengan latihan\n",
    "\n",
    "    return preds.cpu().numpy()\n",
    "\n",
    "def inference_distilbert(text):\n",
    "    text_processed = processingTextForBert(text)\n",
    "    inputs = tokenizing_distilbert(text_processed)\n",
    "    inputs = {k: torch.tensor(v).unsqueeze(0).to(device) for k, v in inputs.items()}\n",
    "    result = predicting_distilbert(inputs)\n",
    "\n",
    "    print(\"Teks :\", text)\n",
    "    if result == 0:\n",
    "        print(\"Positif\")\n",
    "    elif result == 1:\n",
    "        print(\"Netral\")\n",
    "    else:\n",
    "        print(\"Negatif\")"
   ]
  },
  {
   "cell_type": "markdown",
   "id": "b021b428",
   "metadata": {},
   "source": [
    "#### Pipeline LogRes"
   ]
  },
  {
   "cell_type": "code",
   "execution_count": 168,
   "id": "3108f2f0",
   "metadata": {},
   "outputs": [],
   "source": [
    "def vectorizing_logres(text):\n",
    "    vector = tfidf.transform([text])\n",
    "    return vector\n",
    "\n",
    "def predicting_logres(vector):\n",
    "    pred = model_logres.predict(vector)\n",
    "    return pred\n",
    "\n",
    "def inference_logres(text):\n",
    "    text_processed = processingTextGeneral(text)\n",
    "    vector = vectorizing_logres(text_processed)\n",
    "    result = predicting_logres(vector)\n",
    "\n",
    "    print(\"Teks :\", text)\n",
    "    if result == 0:\n",
    "        print(\"Negatif\")\n",
    "    elif result == 1:\n",
    "        print(\"Netral\")\n",
    "    else:\n",
    "        print(\"Positif\")"
   ]
  },
  {
   "cell_type": "markdown",
   "id": "4323fcab",
   "metadata": {},
   "source": [
    "### Cek Hasil"
   ]
  },
  {
   "cell_type": "code",
   "execution_count": 169,
   "id": "3c48ae4d",
   "metadata": {},
   "outputs": [
    {
     "name": "stdout",
     "output_type": "stream",
     "text": [
      "BILSTM\n",
      "\u001b[1m1/1\u001b[0m \u001b[32m━━━━━━━━━━━━━━━━━━━━\u001b[0m\u001b[37m\u001b[0m \u001b[1m0s\u001b[0m 424ms/step\n",
      "Teks : app nya bagus, tampilannya jelas dan menarik, mudah digunakan jg\n",
      "Positif\n",
      "======================================\n",
      "DISTILBERT FINETUNED\n",
      "Teks : app nya bagus, tampilannya jelas dan menarik, mudah digunakan jg\n",
      "Positif\n",
      "======================================\n",
      "LOGISTIC REGRESSION\n",
      "Teks : app nya bagus, tampilannya jelas dan menarik, mudah digunakan jg\n",
      "Positif\n",
      "======================================\n",
      "\n",
      "BILSTM\n",
      "\u001b[1m1/1\u001b[0m \u001b[32m━━━━━━━━━━━━━━━━━━━━\u001b[0m\u001b[37m\u001b[0m \u001b[1m0s\u001b[0m 60ms/step\n",
      "Teks : apalah developer, buat tuh aplikasi yang berguna, malah buat sampah yang bahkan gak jalan sama sekali, hadeuh\n",
      "Netral\n",
      "======================================\n",
      "DISTILBERT FINETUNED\n",
      "Teks : apalah developer, buat tuh aplikasi yang berguna, malah buat sampah yang bahkan gak jalan sama sekali, hadeuh\n",
      "Negatif\n",
      "======================================\n",
      "LOGISTIC REGRESSION\n",
      "Teks : apalah developer, buat tuh aplikasi yang berguna, malah buat sampah yang bahkan gak jalan sama sekali, hadeuh\n",
      "Netral\n",
      "======================================\n",
      "\n",
      "BILSTM\n",
      "\u001b[1m1/1\u001b[0m \u001b[32m━━━━━━━━━━━━━━━━━━━━\u001b[0m\u001b[37m\u001b[0m \u001b[1m0s\u001b[0m 48ms/step\n",
      "Teks : kurang suka bagian tampilannya, gak menarik. lumayan lah\n",
      "Positif\n",
      "======================================\n",
      "DISTILBERT FINETUNED\n",
      "Teks : kurang suka bagian tampilannya, gak menarik. lumayan lah\n",
      "Positif\n",
      "======================================\n",
      "LOGISTIC REGRESSION\n",
      "Teks : kurang suka bagian tampilannya, gak menarik. lumayan lah\n",
      "Positif\n",
      "======================================\n",
      "\n"
     ]
    }
   ],
   "source": [
    "texts = [\n",
    "    \"app nya bagus, tampilannya jelas dan menarik, mudah digunakan jg\",\n",
    "    \"apalah developer, buat tuh aplikasi yang berguna, malah buat sampah yang bahkan gak jalan sama sekali, hadeuh\",\n",
    "    \"kurang suka bagian tampilannya, gak menarik. lumayan lah\"\n",
    "]\n",
    "\n",
    "for i in texts:\n",
    "    print(\"BILSTM\")\n",
    "    inference_bilstm(i)\n",
    "    print(\"======================================\")\n",
    "    print(\"DISTILBERT FINETUNED\")\n",
    "    inference_distilbert(i)\n",
    "    print(\"======================================\")\n",
    "    print(\"LOGISTIC REGRESSION\")\n",
    "    inference_logres(i)\n",
    "    print(\"======================================\\n\")"
   ]
  }
 ],
 "metadata": {
  "kernelspec": {
   "display_name": ".venv",
   "language": "python",
   "name": "python3"
  },
  "language_info": {
   "codemirror_mode": {
    "name": "ipython",
    "version": 3
   },
   "file_extension": ".py",
   "mimetype": "text/x-python",
   "name": "python",
   "nbconvert_exporter": "python",
   "pygments_lexer": "ipython3",
   "version": "3.12.2"
  }
 },
 "nbformat": 4,
 "nbformat_minor": 5
}
